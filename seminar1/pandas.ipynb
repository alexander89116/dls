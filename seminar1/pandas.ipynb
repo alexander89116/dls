{
  "nbformat": 4,
  "nbformat_minor": 0,
  "metadata": {
    "hide_input": false,
    "kernelspec": {
      "display_name": "Python 3",
      "language": "python",
      "name": "python3"
    },
    "language_info": {
      "codemirror_mode": {
        "name": "ipython",
        "version": 3
      },
      "file_extension": ".py",
      "mimetype": "text/x-python",
      "name": "python",
      "nbconvert_exporter": "python",
      "pygments_lexer": "ipython3",
      "version": "3.6.9"
    },
    "varInspector": {
      "cols": {
        "lenName": 16,
        "lenType": 16,
        "lenVar": 40
      },
      "kernels_config": {
        "python": {
          "delete_cmd_postfix": "",
          "delete_cmd_prefix": "del ",
          "library": "var_list.py",
          "varRefreshCmd": "print(var_dic_list())"
        },
        "r": {
          "delete_cmd_postfix": ") ",
          "delete_cmd_prefix": "rm(",
          "library": "var_list.r",
          "varRefreshCmd": "cat(var_dic_list()) "
        }
      },
      "types_to_exclude": [
        "module",
        "function",
        "builtin_function_or_method",
        "instance",
        "_Feature"
      ],
      "window_display": false
    },
    "colab": {
      "name": "[seminar, prodv]pandas.ipynb",
      "provenance": [],
      "collapsed_sections": [],
      "include_colab_link": true
    }
  },
  "cells": [
    {
      "cell_type": "markdown",
      "metadata": {
        "id": "view-in-github",
        "colab_type": "text"
      },
      "source": [
        "<a href=\"https://colab.research.google.com/github/alexander89116/dls/blob/master/seminar1/pandas.ipynb\" target=\"_parent\"><img src=\"https://colab.research.google.com/assets/colab-badge.svg\" alt=\"Open In Colab\"/></a>"
      ]
    },
    {
      "cell_type": "markdown",
      "metadata": {
        "id": "eFQ9vlPa1UAY",
        "colab_type": "text"
      },
      "source": [
        "<p style=\"align: center;\"><img align=center src=\"https://s8.hostingkartinok.com/uploads/images/2018/08/308b49fcfbc619d629fe4604bceb67ac.jpg\" width=500 height=450/></p>\n",
        "\n",
        "<h3 style=\"text-align: center;\"><b>\"Глубокое обучение\". Продвинутый поток</b></h3>\n",
        "\n",
        "<h2 style=\"text-align: center;\"><b>День 3. Библиотека <a href=\"http://pandas.pydata.org/\">pandas</a></b></h2>"
      ]
    },
    {
      "cell_type": "markdown",
      "metadata": {
        "id": "ceGjURub1UAa",
        "colab_type": "text"
      },
      "source": [
        "Библиотека `pandas` активно используется в современном data science для работы с данными, которые могут быть представлены в виде таблиц (а это очень, очень большая часть данных)"
      ]
    },
    {
      "cell_type": "markdown",
      "metadata": {
        "id": "PngW-zch1UAb",
        "colab_type": "text"
      },
      "source": [
        "`pandas` есть в пакете Anaconda, но если вдруг у Вас её по каким-то причинам нет, то можно установить, раскомментировав следующую команду:"
      ]
    },
    {
      "cell_type": "code",
      "metadata": {
        "id": "dfEc4sOP1UAd",
        "colab_type": "code",
        "colab": {}
      },
      "source": [
        "# !pip install numpy pandas"
      ],
      "execution_count": 0,
      "outputs": []
    },
    {
      "cell_type": "code",
      "metadata": {
        "id": "3xmYdfLD1UAk",
        "colab_type": "code",
        "colab": {}
      },
      "source": [
        "import numpy as np\n",
        "import pandas as pd"
      ],
      "execution_count": 0,
      "outputs": []
    },
    {
      "cell_type": "markdown",
      "metadata": {
        "id": "3YT0aZph1UAn",
        "colab_type": "text"
      },
      "source": [
        "## pd.Series"
      ]
    },
    {
      "cell_type": "markdown",
      "metadata": {
        "id": "o2i2S7zI1UAo",
        "colab_type": "text"
      },
      "source": [
        "Одномерный набор данных. Похож на `np.ndarray`, но с более расширенным функционалом"
      ]
    },
    {
      "cell_type": "code",
      "metadata": {
        "id": "w5q5ek581UAo",
        "colab_type": "code",
        "colab": {}
      },
      "source": [
        "np.random.seed(42)"
      ],
      "execution_count": 0,
      "outputs": []
    },
    {
      "cell_type": "code",
      "metadata": {
        "id": "ZdkTY8Ey1UAs",
        "colab_type": "code",
        "outputId": "67aebb58-6809-4580-88d2-2a351a6a9b5a",
        "colab": {
          "base_uri": "https://localhost:8080/",
          "height": 35
        }
      },
      "source": [
        "np_array = np.random.randint(low=-15, high=20, size=4)\n",
        "np_array"
      ],
      "execution_count": 0,
      "outputs": [
        {
          "output_type": "execute_result",
          "data": {
            "text/plain": [
              "array([13, -1, -8,  5])"
            ]
          },
          "metadata": {
            "tags": []
          },
          "execution_count": 4
        }
      ]
    },
    {
      "cell_type": "code",
      "metadata": {
        "id": "yi5X_rBP1UAz",
        "colab_type": "code",
        "outputId": "204e98e9-0256-4a20-a8e9-cd4d2b995299",
        "colab": {
          "base_uri": "https://localhost:8080/",
          "height": 104
        }
      },
      "source": [
        "# Series можно сделать из массива\n",
        "pd_series_1 = pd.Series(np_array)\n",
        "pd_series_1"
      ],
      "execution_count": 0,
      "outputs": [
        {
          "output_type": "execute_result",
          "data": {
            "text/plain": [
              "0    13\n",
              "1    -1\n",
              "2    -8\n",
              "3     5\n",
              "dtype: int64"
            ]
          },
          "metadata": {
            "tags": []
          },
          "execution_count": 5
        }
      ]
    },
    {
      "cell_type": "code",
      "metadata": {
        "id": "MfYJPfRK1UA3",
        "colab_type": "code",
        "outputId": "7dbcf62e-769d-4c0c-f2bf-347bfb5cf074",
        "colab": {
          "base_uri": "https://localhost:8080/",
          "height": 104
        }
      },
      "source": [
        "# Так же можно аннотировать индексы, чтобы потом было более удобно обращаться к элементам\n",
        "pd_series_2 = pd.Series(np_array, index=['1st day', '2nd day', '3rd day', '4th day'])\n",
        "pd_series_2"
      ],
      "execution_count": 0,
      "outputs": [
        {
          "output_type": "execute_result",
          "data": {
            "text/plain": [
              "1st day    13\n",
              "2nd day    -1\n",
              "3rd day    -8\n",
              "4th day     5\n",
              "dtype: int64"
            ]
          },
          "metadata": {
            "tags": []
          },
          "execution_count": 6
        }
      ]
    },
    {
      "cell_type": "code",
      "metadata": {
        "id": "1JGzmSLC1UA6",
        "colab_type": "code",
        "outputId": "e343ef9d-13b5-41eb-8689-5ad73614aab4",
        "colab": {
          "base_uri": "https://localhost:8080/",
          "height": 35
        }
      },
      "source": [
        "pd_series_2['4th day']"
      ],
      "execution_count": 0,
      "outputs": [
        {
          "output_type": "execute_result",
          "data": {
            "text/plain": [
              "5"
            ]
          },
          "metadata": {
            "tags": []
          },
          "execution_count": 7
        }
      ]
    },
    {
      "cell_type": "code",
      "metadata": {
        "id": "vyIi83XU1UA9",
        "colab_type": "code",
        "outputId": "9234d957-c6fa-4773-dcd6-098af28da777",
        "colab": {
          "base_uri": "https://localhost:8080/",
          "height": 104
        }
      },
      "source": [
        "# А еще можно дать pd.Series имя, чтобы было совсем красиво\n",
        "pd_series_3 = pd.Series(np_array, index=['1st day', '2nd day', '3rd day', '4th day'], name='Temperature')\n",
        "pd_series_3"
      ],
      "execution_count": 0,
      "outputs": [
        {
          "output_type": "execute_result",
          "data": {
            "text/plain": [
              "1st day    13\n",
              "2nd day    -1\n",
              "3rd day    -8\n",
              "4th day     5\n",
              "Name: Temperature, dtype: int64"
            ]
          },
          "metadata": {
            "tags": []
          },
          "execution_count": 8
        }
      ]
    },
    {
      "cell_type": "code",
      "metadata": {
        "id": "YFYo7lK61UBE",
        "colab_type": "code",
        "outputId": "ebbdbe1f-cc22-4f25-eb04-ba849bf74389",
        "colab": {
          "base_uri": "https://localhost:8080/",
          "height": 208
        }
      },
      "source": [
        "# с индексами можно работать так же, как и в случае с обычным list\n",
        "print(pd_series_3[0])\n",
        "print('*'*5)\n",
        "print(pd_series_3[1:3])\n",
        "print('*'*5)\n",
        "print(pd_series_3[::-1])"
      ],
      "execution_count": 0,
      "outputs": [
        {
          "output_type": "stream",
          "text": [
            "13\n",
            "*****\n",
            "2nd day   -1\n",
            "3rd day   -8\n",
            "Name: Temperature, dtype: int64\n",
            "*****\n",
            "4th day     5\n",
            "3rd day    -8\n",
            "2nd day    -1\n",
            "1st day    13\n",
            "Name: Temperature, dtype: int64\n"
          ],
          "name": "stdout"
        }
      ]
    },
    {
      "cell_type": "markdown",
      "metadata": {
        "id": "tf7SmKW_1UBH",
        "colab_type": "text"
      },
      "source": [
        "`series` можно отсортировать как по значениям, так и по индексу"
      ]
    },
    {
      "cell_type": "code",
      "metadata": {
        "id": "GTb2SKwl1UBH",
        "colab_type": "code",
        "outputId": "89c704ca-9df2-47f8-c1fa-21730367468b",
        "colab": {
          "base_uri": "https://localhost:8080/",
          "height": 104
        }
      },
      "source": [
        "pd_series_3.sort_index()"
      ],
      "execution_count": 0,
      "outputs": [
        {
          "output_type": "execute_result",
          "data": {
            "text/plain": [
              "1st day    13\n",
              "2nd day    -1\n",
              "3rd day    -8\n",
              "4th day     5\n",
              "Name: Temperature, dtype: int64"
            ]
          },
          "metadata": {
            "tags": []
          },
          "execution_count": 10
        }
      ]
    },
    {
      "cell_type": "code",
      "metadata": {
        "id": "Y6cWwL251UBK",
        "colab_type": "code",
        "outputId": "8e5d41c2-0ab3-4fef-eba2-fcabbfd56861",
        "colab": {
          "base_uri": "https://localhost:8080/",
          "height": 104
        }
      },
      "source": [
        "pd_series_3.sort_values()"
      ],
      "execution_count": 0,
      "outputs": [
        {
          "output_type": "execute_result",
          "data": {
            "text/plain": [
              "3rd day    -8\n",
              "2nd day    -1\n",
              "4th day     5\n",
              "1st day    13\n",
              "Name: Temperature, dtype: int64"
            ]
          },
          "metadata": {
            "tags": []
          },
          "execution_count": 11
        }
      ]
    },
    {
      "cell_type": "markdown",
      "metadata": {
        "id": "_G4soIXo1UBN",
        "colab_type": "text"
      },
      "source": [
        "с `series` можно работать как с `np.ndarray`"
      ]
    },
    {
      "cell_type": "code",
      "metadata": {
        "scrolled": true,
        "id": "6dcNWytO1UBO",
        "colab_type": "code",
        "outputId": "01858991-8879-4906-8f2c-1c0884b45f8b",
        "colab": {
          "base_uri": "https://localhost:8080/",
          "height": 104
        }
      },
      "source": [
        "pd_series_3 + 100"
      ],
      "execution_count": 0,
      "outputs": [
        {
          "output_type": "execute_result",
          "data": {
            "text/plain": [
              "1st day    113\n",
              "2nd day     99\n",
              "3rd day     92\n",
              "4th day    105\n",
              "Name: Temperature, dtype: int64"
            ]
          },
          "metadata": {
            "tags": []
          },
          "execution_count": 12
        }
      ]
    },
    {
      "cell_type": "code",
      "metadata": {
        "id": "xid16Mis1UBW",
        "colab_type": "code",
        "outputId": "ebc26a3c-adf0-4d31-ca5a-4101b7392d52",
        "colab": {
          "base_uri": "https://localhost:8080/",
          "height": 104
        }
      },
      "source": [
        "np.exp(pd_series_3)"
      ],
      "execution_count": 0,
      "outputs": [
        {
          "output_type": "execute_result",
          "data": {
            "text/plain": [
              "1st day    442413.392009\n",
              "2nd day         0.367879\n",
              "3rd day         0.000335\n",
              "4th day       148.413159\n",
              "Name: Temperature, dtype: float64"
            ]
          },
          "metadata": {
            "tags": []
          },
          "execution_count": 13
        }
      ]
    },
    {
      "cell_type": "code",
      "metadata": {
        "id": "qFCVokmT1UBZ",
        "colab_type": "code",
        "outputId": "0dd5a3e1-c5fd-4cdb-d57c-2aae80b00e62",
        "colab": {
          "base_uri": "https://localhost:8080/",
          "height": 451
        }
      },
      "source": [
        "term_1 = pd.Series(np.random.randint(0, 10, 5))\n",
        "term_2 = pd.Series(np.random.randint(0, 10, 6))\n",
        "\n",
        "print('Term1:\\n{}\\n\\nTerm2:\\n{}\\n\\nSum:\\n{}'.format(term_1, term_2, term_1 + term_2))"
      ],
      "execution_count": 0,
      "outputs": [
        {
          "output_type": "stream",
          "text": [
            "Term1:\n",
            "0    6\n",
            "1    9\n",
            "2    2\n",
            "3    6\n",
            "4    7\n",
            "dtype: int64\n",
            "\n",
            "Term2:\n",
            "0    4\n",
            "1    3\n",
            "2    7\n",
            "3    7\n",
            "4    2\n",
            "5    5\n",
            "dtype: int64\n",
            "\n",
            "Sum:\n",
            "0    10.0\n",
            "1    12.0\n",
            "2     9.0\n",
            "3    13.0\n",
            "4     9.0\n",
            "5     NaN\n",
            "dtype: float64\n"
          ],
          "name": "stdout"
        }
      ]
    },
    {
      "cell_type": "code",
      "metadata": {
        "id": "jF-gRVvx1UBc",
        "colab_type": "code",
        "outputId": "db6782fb-a3e7-4e84-970a-adfa32688c41",
        "colab": {
          "base_uri": "https://localhost:8080/",
          "height": 35
        }
      },
      "source": [
        "term_1.shape"
      ],
      "execution_count": 0,
      "outputs": [
        {
          "output_type": "execute_result",
          "data": {
            "text/plain": [
              "(5,)"
            ]
          },
          "metadata": {
            "tags": []
          },
          "execution_count": 15
        }
      ]
    },
    {
      "cell_type": "code",
      "metadata": {
        "id": "Ko1N6fzM1UBg",
        "colab_type": "code",
        "outputId": "888f804b-53d4-4819-81a1-a26fdba76504",
        "colab": {
          "base_uri": "https://localhost:8080/",
          "height": 208
        }
      },
      "source": [
        "date_range = pd.date_range('20190101', periods=10)\n",
        "pd_series_4 = pd.Series(np.random.rand(10), date_range)\n",
        "pd_series_4"
      ],
      "execution_count": 0,
      "outputs": [
        {
          "output_type": "execute_result",
          "data": {
            "text/plain": [
              "2019-01-01    0.056412\n",
              "2019-01-02    0.721999\n",
              "2019-01-03    0.938553\n",
              "2019-01-04    0.000779\n",
              "2019-01-05    0.992212\n",
              "2019-01-06    0.617482\n",
              "2019-01-07    0.611653\n",
              "2019-01-08    0.007066\n",
              "2019-01-09    0.023062\n",
              "2019-01-10    0.524775\n",
              "Freq: D, dtype: float64"
            ]
          },
          "metadata": {
            "tags": []
          },
          "execution_count": 16
        }
      ]
    },
    {
      "cell_type": "code",
      "metadata": {
        "id": "WCzzI1Ov1UBn",
        "colab_type": "code",
        "outputId": "b8ce28f0-0700-4166-ea03-ee1958dc818a",
        "colab": {
          "base_uri": "https://localhost:8080/",
          "height": 208
        }
      },
      "source": [
        "pd_series_4 > 0.5"
      ],
      "execution_count": 0,
      "outputs": [
        {
          "output_type": "execute_result",
          "data": {
            "text/plain": [
              "2019-01-01    False\n",
              "2019-01-02     True\n",
              "2019-01-03     True\n",
              "2019-01-04    False\n",
              "2019-01-05     True\n",
              "2019-01-06     True\n",
              "2019-01-07     True\n",
              "2019-01-08    False\n",
              "2019-01-09    False\n",
              "2019-01-10     True\n",
              "Freq: D, dtype: bool"
            ]
          },
          "metadata": {
            "tags": []
          },
          "execution_count": 17
        }
      ]
    },
    {
      "cell_type": "markdown",
      "metadata": {
        "id": "GzIVFtEv1UBq",
        "colab_type": "text"
      },
      "source": [
        "в качестве индекса можно указать выражение, и нам будут возвращены только те элементы, для которых знвчение является `True`"
      ]
    },
    {
      "cell_type": "code",
      "metadata": {
        "id": "bAFXlLql1UBr",
        "colab_type": "code",
        "outputId": "62a9f606-bc11-434f-93a7-09723edc89e2",
        "colab": {
          "base_uri": "https://localhost:8080/",
          "height": 139
        }
      },
      "source": [
        "pd_series_4[pd_series_4 > 0.5]"
      ],
      "execution_count": 0,
      "outputs": [
        {
          "output_type": "execute_result",
          "data": {
            "text/plain": [
              "2019-01-02    0.721999\n",
              "2019-01-03    0.938553\n",
              "2019-01-05    0.992212\n",
              "2019-01-06    0.617482\n",
              "2019-01-07    0.611653\n",
              "2019-01-10    0.524775\n",
              "dtype: float64"
            ]
          },
          "metadata": {
            "tags": []
          },
          "execution_count": 18
        }
      ]
    },
    {
      "cell_type": "code",
      "metadata": {
        "id": "X99vi_Gf1UBv",
        "colab_type": "code",
        "outputId": "748140dd-6463-440a-b7a9-6f37a602a1a2",
        "colab": {
          "base_uri": "https://localhost:8080/",
          "height": 52
        }
      },
      "source": [
        "pd_series_4[(pd_series_4 > 0.5) & (pd_series_4 < 0.6)]"
      ],
      "execution_count": 0,
      "outputs": [
        {
          "output_type": "execute_result",
          "data": {
            "text/plain": [
              "2019-01-10    0.524775\n",
              "Freq: D, dtype: float64"
            ]
          },
          "metadata": {
            "tags": []
          },
          "execution_count": 19
        }
      ]
    },
    {
      "cell_type": "code",
      "metadata": {
        "id": "0llBKit01UB2",
        "colab_type": "code",
        "outputId": "6fa31092-0596-4ec2-83fb-254b16621ac1",
        "colab": {
          "base_uri": "https://localhost:8080/",
          "height": 191
        }
      },
      "source": [
        "pd_series_4[(pd_series_4 > 0.6) | (pd_series_4 < 0.2)]"
      ],
      "execution_count": 0,
      "outputs": [
        {
          "output_type": "execute_result",
          "data": {
            "text/plain": [
              "2019-01-01    0.056412\n",
              "2019-01-02    0.721999\n",
              "2019-01-03    0.938553\n",
              "2019-01-04    0.000779\n",
              "2019-01-05    0.992212\n",
              "2019-01-06    0.617482\n",
              "2019-01-07    0.611653\n",
              "2019-01-08    0.007066\n",
              "2019-01-09    0.023062\n",
              "Freq: D, dtype: float64"
            ]
          },
          "metadata": {
            "tags": []
          },
          "execution_count": 20
        }
      ]
    },
    {
      "cell_type": "markdown",
      "metadata": {
        "id": "IkwHO-GV1UB5",
        "colab_type": "text"
      },
      "source": [
        "## DataFrame\n",
        "\n",
        "Двумерная таблица данных. Имеет индекс и набор столбцов (возможно, имеющих разные типы). Таблицу можно построить, например, из словаря, значениями в котором являются одномерные наборы данных."
      ]
    },
    {
      "cell_type": "code",
      "metadata": {
        "id": "0YCsJIeB1UB6",
        "colab_type": "code",
        "outputId": "1a1dc03a-d958-4745-9d50-60b4f9d67be2",
        "colab": {
          "base_uri": "https://localhost:8080/",
          "height": 171
        }
      },
      "source": [
        "# Dataframe можно составить из словаря. Ключ будет соответсовать колонке\n",
        "d={'one':pd.Series([1,2,3],index=['a','b','c']),\n",
        "   'two':pd.Series([1,2,3,4],index=['a','b','c','d'])}\n",
        "df=pd.DataFrame(d)\n",
        "df"
      ],
      "execution_count": 0,
      "outputs": [
        {
          "output_type": "execute_result",
          "data": {
            "text/html": [
              "<div>\n",
              "<style scoped>\n",
              "    .dataframe tbody tr th:only-of-type {\n",
              "        vertical-align: middle;\n",
              "    }\n",
              "\n",
              "    .dataframe tbody tr th {\n",
              "        vertical-align: top;\n",
              "    }\n",
              "\n",
              "    .dataframe thead th {\n",
              "        text-align: right;\n",
              "    }\n",
              "</style>\n",
              "<table border=\"1\" class=\"dataframe\">\n",
              "  <thead>\n",
              "    <tr style=\"text-align: right;\">\n",
              "      <th></th>\n",
              "      <th>one</th>\n",
              "      <th>two</th>\n",
              "    </tr>\n",
              "  </thead>\n",
              "  <tbody>\n",
              "    <tr>\n",
              "      <th>a</th>\n",
              "      <td>1.0</td>\n",
              "      <td>1</td>\n",
              "    </tr>\n",
              "    <tr>\n",
              "      <th>b</th>\n",
              "      <td>2.0</td>\n",
              "      <td>2</td>\n",
              "    </tr>\n",
              "    <tr>\n",
              "      <th>c</th>\n",
              "      <td>3.0</td>\n",
              "      <td>3</td>\n",
              "    </tr>\n",
              "    <tr>\n",
              "      <th>d</th>\n",
              "      <td>NaN</td>\n",
              "      <td>4</td>\n",
              "    </tr>\n",
              "  </tbody>\n",
              "</table>\n",
              "</div>"
            ],
            "text/plain": [
              "   one  two\n",
              "a  1.0    1\n",
              "b  2.0    2\n",
              "c  3.0    3\n",
              "d  NaN    4"
            ]
          },
          "metadata": {
            "tags": []
          },
          "execution_count": 21
        }
      ]
    },
    {
      "cell_type": "code",
      "metadata": {
        "id": "3wIr4h7w1UB9",
        "colab_type": "code",
        "outputId": "c9574347-c0b6-44bb-86b9-d3f1d7f92fd8",
        "colab": {
          "base_uri": "https://localhost:8080/",
          "height": 35
        }
      },
      "source": [
        "df.index"
      ],
      "execution_count": 0,
      "outputs": [
        {
          "output_type": "execute_result",
          "data": {
            "text/plain": [
              "Index(['a', 'b', 'c', 'd'], dtype='object')"
            ]
          },
          "metadata": {
            "tags": []
          },
          "execution_count": 22
        }
      ]
    },
    {
      "cell_type": "code",
      "metadata": {
        "id": "B3mUJJZq1UB_",
        "colab_type": "code",
        "outputId": "3441c41e-0bc5-4063-f4e5-1d5c4ee5c678",
        "colab": {
          "base_uri": "https://localhost:8080/",
          "height": 35
        }
      },
      "source": [
        "df.columns"
      ],
      "execution_count": 0,
      "outputs": [
        {
          "output_type": "execute_result",
          "data": {
            "text/plain": [
              "Index(['one', 'two'], dtype='object')"
            ]
          },
          "metadata": {
            "tags": []
          },
          "execution_count": 23
        }
      ]
    },
    {
      "cell_type": "code",
      "metadata": {
        "id": "x-lF1dh61UCF",
        "colab_type": "code",
        "outputId": "841701ec-2a4e-47e6-98ee-0256a7f14b1d",
        "colab": {
          "base_uri": "https://localhost:8080/",
          "height": 35
        }
      },
      "source": [
        "df['one']['c']"
      ],
      "execution_count": 0,
      "outputs": [
        {
          "output_type": "execute_result",
          "data": {
            "text/plain": [
              "3.0"
            ]
          },
          "metadata": {
            "tags": []
          },
          "execution_count": 24
        }
      ]
    },
    {
      "cell_type": "code",
      "metadata": {
        "id": "VVnEx_Eq1UCI",
        "colab_type": "code",
        "outputId": "1820fcb1-0dfb-4f4d-bf71-9dd96735566b",
        "colab": {
          "base_uri": "https://localhost:8080/",
          "height": 104
        }
      },
      "source": [
        "df.one"
      ],
      "execution_count": 0,
      "outputs": [
        {
          "output_type": "execute_result",
          "data": {
            "text/plain": [
              "a    1.0\n",
              "b    2.0\n",
              "c    3.0\n",
              "d    NaN\n",
              "Name: one, dtype: float64"
            ]
          },
          "metadata": {
            "tags": []
          },
          "execution_count": 25
        }
      ]
    },
    {
      "cell_type": "markdown",
      "metadata": {
        "id": "SBFDHDVJ1UCL",
        "colab_type": "text"
      },
      "source": [
        "Если указать диапазон индексов, то это означает диапазон строк. Причём **последняя строка включается в таблицу.**\n",
        "\n",
        "Диапазон целых чисел даёт диапазон строк с такими номерами, **не включая последнюю строку** (как обычно при индексировании списков). \n",
        "\n",
        "На это стоит обратить внимание"
      ]
    },
    {
      "cell_type": "code",
      "metadata": {
        "id": "-8J3rWRV1UCL",
        "colab_type": "code",
        "outputId": "19a66126-d3ae-42d4-c8ed-30d8aac8483d",
        "colab": {
          "base_uri": "https://localhost:8080/",
          "height": 141
        }
      },
      "source": [
        "df['b':'d']"
      ],
      "execution_count": 0,
      "outputs": [
        {
          "output_type": "execute_result",
          "data": {
            "text/html": [
              "<div>\n",
              "<style scoped>\n",
              "    .dataframe tbody tr th:only-of-type {\n",
              "        vertical-align: middle;\n",
              "    }\n",
              "\n",
              "    .dataframe tbody tr th {\n",
              "        vertical-align: top;\n",
              "    }\n",
              "\n",
              "    .dataframe thead th {\n",
              "        text-align: right;\n",
              "    }\n",
              "</style>\n",
              "<table border=\"1\" class=\"dataframe\">\n",
              "  <thead>\n",
              "    <tr style=\"text-align: right;\">\n",
              "      <th></th>\n",
              "      <th>one</th>\n",
              "      <th>two</th>\n",
              "    </tr>\n",
              "  </thead>\n",
              "  <tbody>\n",
              "    <tr>\n",
              "      <th>b</th>\n",
              "      <td>2.0</td>\n",
              "      <td>2</td>\n",
              "    </tr>\n",
              "    <tr>\n",
              "      <th>c</th>\n",
              "      <td>3.0</td>\n",
              "      <td>3</td>\n",
              "    </tr>\n",
              "    <tr>\n",
              "      <th>d</th>\n",
              "      <td>NaN</td>\n",
              "      <td>4</td>\n",
              "    </tr>\n",
              "  </tbody>\n",
              "</table>\n",
              "</div>"
            ],
            "text/plain": [
              "   one  two\n",
              "b  2.0    2\n",
              "c  3.0    3\n",
              "d  NaN    4"
            ]
          },
          "metadata": {
            "tags": []
          },
          "execution_count": 26
        }
      ]
    },
    {
      "cell_type": "code",
      "metadata": {
        "id": "6G-JBRKg1UCP",
        "colab_type": "code",
        "outputId": "664162ae-a794-4509-9783-43df8039b897",
        "colab": {
          "base_uri": "https://localhost:8080/",
          "height": 110
        }
      },
      "source": [
        "df[3:1:-1]"
      ],
      "execution_count": 0,
      "outputs": [
        {
          "output_type": "execute_result",
          "data": {
            "text/html": [
              "<div>\n",
              "<style scoped>\n",
              "    .dataframe tbody tr th:only-of-type {\n",
              "        vertical-align: middle;\n",
              "    }\n",
              "\n",
              "    .dataframe tbody tr th {\n",
              "        vertical-align: top;\n",
              "    }\n",
              "\n",
              "    .dataframe thead th {\n",
              "        text-align: right;\n",
              "    }\n",
              "</style>\n",
              "<table border=\"1\" class=\"dataframe\">\n",
              "  <thead>\n",
              "    <tr style=\"text-align: right;\">\n",
              "      <th></th>\n",
              "      <th>one</th>\n",
              "      <th>two</th>\n",
              "    </tr>\n",
              "  </thead>\n",
              "  <tbody>\n",
              "    <tr>\n",
              "      <th>d</th>\n",
              "      <td>NaN</td>\n",
              "      <td>4</td>\n",
              "    </tr>\n",
              "    <tr>\n",
              "      <th>c</th>\n",
              "      <td>3.0</td>\n",
              "      <td>3</td>\n",
              "    </tr>\n",
              "  </tbody>\n",
              "</table>\n",
              "</div>"
            ],
            "text/plain": [
              "   one  two\n",
              "d  NaN    4\n",
              "c  3.0    3"
            ]
          },
          "metadata": {
            "tags": []
          },
          "execution_count": 27
        }
      ]
    },
    {
      "cell_type": "code",
      "metadata": {
        "id": "5N_mKuA71UCX",
        "colab_type": "code",
        "outputId": "454aa3d5-c91f-403d-d930-8e5873774981",
        "colab": {
          "base_uri": "https://localhost:8080/",
          "height": 171
        }
      },
      "source": [
        "df['three'] = df['one'] * df['two']\n",
        "df"
      ],
      "execution_count": 0,
      "outputs": [
        {
          "output_type": "execute_result",
          "data": {
            "text/html": [
              "<div>\n",
              "<style scoped>\n",
              "    .dataframe tbody tr th:only-of-type {\n",
              "        vertical-align: middle;\n",
              "    }\n",
              "\n",
              "    .dataframe tbody tr th {\n",
              "        vertical-align: top;\n",
              "    }\n",
              "\n",
              "    .dataframe thead th {\n",
              "        text-align: right;\n",
              "    }\n",
              "</style>\n",
              "<table border=\"1\" class=\"dataframe\">\n",
              "  <thead>\n",
              "    <tr style=\"text-align: right;\">\n",
              "      <th></th>\n",
              "      <th>one</th>\n",
              "      <th>two</th>\n",
              "      <th>three</th>\n",
              "    </tr>\n",
              "  </thead>\n",
              "  <tbody>\n",
              "    <tr>\n",
              "      <th>a</th>\n",
              "      <td>1.0</td>\n",
              "      <td>1</td>\n",
              "      <td>1.0</td>\n",
              "    </tr>\n",
              "    <tr>\n",
              "      <th>b</th>\n",
              "      <td>2.0</td>\n",
              "      <td>2</td>\n",
              "      <td>4.0</td>\n",
              "    </tr>\n",
              "    <tr>\n",
              "      <th>c</th>\n",
              "      <td>3.0</td>\n",
              "      <td>3</td>\n",
              "      <td>9.0</td>\n",
              "    </tr>\n",
              "    <tr>\n",
              "      <th>d</th>\n",
              "      <td>NaN</td>\n",
              "      <td>4</td>\n",
              "      <td>NaN</td>\n",
              "    </tr>\n",
              "  </tbody>\n",
              "</table>\n",
              "</div>"
            ],
            "text/plain": [
              "   one  two  three\n",
              "a  1.0    1    1.0\n",
              "b  2.0    2    4.0\n",
              "c  3.0    3    9.0\n",
              "d  NaN    4    NaN"
            ]
          },
          "metadata": {
            "tags": []
          },
          "execution_count": 28
        }
      ]
    },
    {
      "cell_type": "code",
      "metadata": {
        "id": "7dDhqtFt1UCc",
        "colab_type": "code",
        "outputId": "6d0f422b-09f2-46ae-acd5-3fe71b894717",
        "colab": {
          "base_uri": "https://localhost:8080/",
          "height": 110
        }
      },
      "source": [
        "# concatinating\n",
        "df2=pd.DataFrame({'one':{'e':0,'f':1},'one_tr':{'e':2}})\n",
        "df2"
      ],
      "execution_count": 0,
      "outputs": [
        {
          "output_type": "execute_result",
          "data": {
            "text/html": [
              "<div>\n",
              "<style scoped>\n",
              "    .dataframe tbody tr th:only-of-type {\n",
              "        vertical-align: middle;\n",
              "    }\n",
              "\n",
              "    .dataframe tbody tr th {\n",
              "        vertical-align: top;\n",
              "    }\n",
              "\n",
              "    .dataframe thead th {\n",
              "        text-align: right;\n",
              "    }\n",
              "</style>\n",
              "<table border=\"1\" class=\"dataframe\">\n",
              "  <thead>\n",
              "    <tr style=\"text-align: right;\">\n",
              "      <th></th>\n",
              "      <th>one</th>\n",
              "      <th>one_tr</th>\n",
              "    </tr>\n",
              "  </thead>\n",
              "  <tbody>\n",
              "    <tr>\n",
              "      <th>e</th>\n",
              "      <td>0</td>\n",
              "      <td>2.0</td>\n",
              "    </tr>\n",
              "    <tr>\n",
              "      <th>f</th>\n",
              "      <td>1</td>\n",
              "      <td>NaN</td>\n",
              "    </tr>\n",
              "  </tbody>\n",
              "</table>\n",
              "</div>"
            ],
            "text/plain": [
              "   one  one_tr\n",
              "e    0     2.0\n",
              "f    1     NaN"
            ]
          },
          "metadata": {
            "tags": []
          },
          "execution_count": 29
        }
      ]
    },
    {
      "cell_type": "code",
      "metadata": {
        "id": "zgFcUr_O1UCi",
        "colab_type": "code",
        "outputId": "5544ebc0-d969-4acc-a2a5-57d59d92b55c",
        "colab": {
          "base_uri": "https://localhost:8080/",
          "height": 233
        }
      },
      "source": [
        "pd.concat([df,df2], sort=False)"
      ],
      "execution_count": 0,
      "outputs": [
        {
          "output_type": "execute_result",
          "data": {
            "text/html": [
              "<div>\n",
              "<style scoped>\n",
              "    .dataframe tbody tr th:only-of-type {\n",
              "        vertical-align: middle;\n",
              "    }\n",
              "\n",
              "    .dataframe tbody tr th {\n",
              "        vertical-align: top;\n",
              "    }\n",
              "\n",
              "    .dataframe thead th {\n",
              "        text-align: right;\n",
              "    }\n",
              "</style>\n",
              "<table border=\"1\" class=\"dataframe\">\n",
              "  <thead>\n",
              "    <tr style=\"text-align: right;\">\n",
              "      <th></th>\n",
              "      <th>one</th>\n",
              "      <th>two</th>\n",
              "      <th>three</th>\n",
              "      <th>one_tr</th>\n",
              "    </tr>\n",
              "  </thead>\n",
              "  <tbody>\n",
              "    <tr>\n",
              "      <th>a</th>\n",
              "      <td>1.0</td>\n",
              "      <td>1.0</td>\n",
              "      <td>1.0</td>\n",
              "      <td>NaN</td>\n",
              "    </tr>\n",
              "    <tr>\n",
              "      <th>b</th>\n",
              "      <td>2.0</td>\n",
              "      <td>2.0</td>\n",
              "      <td>4.0</td>\n",
              "      <td>NaN</td>\n",
              "    </tr>\n",
              "    <tr>\n",
              "      <th>c</th>\n",
              "      <td>3.0</td>\n",
              "      <td>3.0</td>\n",
              "      <td>9.0</td>\n",
              "      <td>NaN</td>\n",
              "    </tr>\n",
              "    <tr>\n",
              "      <th>d</th>\n",
              "      <td>NaN</td>\n",
              "      <td>4.0</td>\n",
              "      <td>NaN</td>\n",
              "      <td>NaN</td>\n",
              "    </tr>\n",
              "    <tr>\n",
              "      <th>e</th>\n",
              "      <td>0.0</td>\n",
              "      <td>NaN</td>\n",
              "      <td>NaN</td>\n",
              "      <td>2.0</td>\n",
              "    </tr>\n",
              "    <tr>\n",
              "      <th>f</th>\n",
              "      <td>1.0</td>\n",
              "      <td>NaN</td>\n",
              "      <td>NaN</td>\n",
              "      <td>NaN</td>\n",
              "    </tr>\n",
              "  </tbody>\n",
              "</table>\n",
              "</div>"
            ],
            "text/plain": [
              "   one  two  three  one_tr\n",
              "a  1.0  1.0    1.0     NaN\n",
              "b  2.0  2.0    4.0     NaN\n",
              "c  3.0  3.0    9.0     NaN\n",
              "d  NaN  4.0    NaN     NaN\n",
              "e  0.0  NaN    NaN     2.0\n",
              "f  1.0  NaN    NaN     NaN"
            ]
          },
          "metadata": {
            "tags": []
          },
          "execution_count": 30
        }
      ]
    },
    {
      "cell_type": "markdown",
      "metadata": {
        "id": "AQHnPHQQ1UCt",
        "colab_type": "text"
      },
      "source": [
        "Теперь попробуем поработать с настоящими данными"
      ]
    },
    {
      "cell_type": "markdown",
      "metadata": {
        "id": "por64Skv1UCu",
        "colab_type": "text"
      },
      "source": [
        "### Скачать данные: https://www.kaggle.com/ramamet4/app-store-apple-data-set-10k-apps"
      ]
    },
    {
      "cell_type": "code",
      "metadata": {
        "scrolled": false,
        "id": "pBXDk6On1UCv",
        "colab_type": "code",
        "colab": {}
      },
      "source": [
        "# !wget https://www.dropbox.com/s/o9uiqxb3yr6ch6k/app-store-apple-data-set-10k-apps.zip?dl=0\n",
        "# !unzip app-store-apple-data-set-10k-apps.zip?dl=0"
      ],
      "execution_count": 0,
      "outputs": []
    },
    {
      "cell_type": "code",
      "metadata": {
        "id": "MYCGv2Dv1UC0",
        "colab_type": "code",
        "outputId": "35a26456-922b-4109-e867-d7dca7a2859d",
        "colab": {
          "base_uri": "https://localhost:8080/",
          "height": 447
        }
      },
      "source": [
        "url = 'https://raw.githubusercontent.com/alexander89116/dls/master/seminar1/AppleStore.csv'\n",
        "data = pd.read_csv(url)\n",
        "\n",
        "# вывести первые 5 строк\n",
        "# data.head(10)\n",
        "# вывести последние 5 строк\n",
        "# data.tail(5)\n",
        "# вывести 5 случайных строк\n",
        "data.sample(5)"
      ],
      "execution_count": 0,
      "outputs": [
        {
          "output_type": "execute_result",
          "data": {
            "text/html": [
              "<div>\n",
              "<style scoped>\n",
              "    .dataframe tbody tr th:only-of-type {\n",
              "        vertical-align: middle;\n",
              "    }\n",
              "\n",
              "    .dataframe tbody tr th {\n",
              "        vertical-align: top;\n",
              "    }\n",
              "\n",
              "    .dataframe thead th {\n",
              "        text-align: right;\n",
              "    }\n",
              "</style>\n",
              "<table border=\"1\" class=\"dataframe\">\n",
              "  <thead>\n",
              "    <tr style=\"text-align: right;\">\n",
              "      <th></th>\n",
              "      <th>Unnamed: 0</th>\n",
              "      <th>id</th>\n",
              "      <th>track_name</th>\n",
              "      <th>size_bytes</th>\n",
              "      <th>currency</th>\n",
              "      <th>price</th>\n",
              "      <th>rating_count_tot</th>\n",
              "      <th>rating_count_ver</th>\n",
              "      <th>user_rating</th>\n",
              "      <th>user_rating_ver</th>\n",
              "      <th>ver</th>\n",
              "      <th>cont_rating</th>\n",
              "      <th>prime_genre</th>\n",
              "      <th>sup_devices.num</th>\n",
              "      <th>ipadSc_urls.num</th>\n",
              "      <th>lang.num</th>\n",
              "      <th>vpp_lic</th>\n",
              "    </tr>\n",
              "  </thead>\n",
              "  <tbody>\n",
              "    <tr>\n",
              "      <th>4758</th>\n",
              "      <td>6123</td>\n",
              "      <td>1059634715</td>\n",
              "      <td>VyStar Mobile Banking for iPhone</td>\n",
              "      <td>27553792</td>\n",
              "      <td>USD</td>\n",
              "      <td>0.00</td>\n",
              "      <td>434</td>\n",
              "      <td>114</td>\n",
              "      <td>1.5</td>\n",
              "      <td>1.5</td>\n",
              "      <td>5.0.34</td>\n",
              "      <td>4+</td>\n",
              "      <td>Finance</td>\n",
              "      <td>43</td>\n",
              "      <td>0</td>\n",
              "      <td>1</td>\n",
              "      <td>1</td>\n",
              "    </tr>\n",
              "    <tr>\n",
              "      <th>5688</th>\n",
              "      <td>7738</td>\n",
              "      <td>1093131935</td>\n",
              "      <td>Incredibox</td>\n",
              "      <td>66006016</td>\n",
              "      <td>USD</td>\n",
              "      <td>3.99</td>\n",
              "      <td>472</td>\n",
              "      <td>105</td>\n",
              "      <td>4.5</td>\n",
              "      <td>5.0</td>\n",
              "      <td>2.0</td>\n",
              "      <td>4+</td>\n",
              "      <td>Games</td>\n",
              "      <td>37</td>\n",
              "      <td>5</td>\n",
              "      <td>5</td>\n",
              "      <td>1</td>\n",
              "    </tr>\n",
              "    <tr>\n",
              "      <th>1134</th>\n",
              "      <td>1322</td>\n",
              "      <td>491899548</td>\n",
              "      <td>Pocket League Story</td>\n",
              "      <td>186905600</td>\n",
              "      <td>USD</td>\n",
              "      <td>4.99</td>\n",
              "      <td>357</td>\n",
              "      <td>4</td>\n",
              "      <td>4.0</td>\n",
              "      <td>3.0</td>\n",
              "      <td>2.00</td>\n",
              "      <td>4+</td>\n",
              "      <td>Games</td>\n",
              "      <td>38</td>\n",
              "      <td>5</td>\n",
              "      <td>4</td>\n",
              "      <td>1</td>\n",
              "    </tr>\n",
              "    <tr>\n",
              "      <th>5373</th>\n",
              "      <td>7184</td>\n",
              "      <td>1081221532</td>\n",
              "      <td>Hovercraft: Takedown - Custom Combat Cars</td>\n",
              "      <td>123773952</td>\n",
              "      <td>USD</td>\n",
              "      <td>0.00</td>\n",
              "      <td>15290</td>\n",
              "      <td>523</td>\n",
              "      <td>4.5</td>\n",
              "      <td>4.5</td>\n",
              "      <td>1.4.4</td>\n",
              "      <td>9+</td>\n",
              "      <td>Games</td>\n",
              "      <td>38</td>\n",
              "      <td>5</td>\n",
              "      <td>12</td>\n",
              "      <td>1</td>\n",
              "    </tr>\n",
              "    <tr>\n",
              "      <th>1657</th>\n",
              "      <td>1926</td>\n",
              "      <td>579581125</td>\n",
              "      <td>SmartNews - Trending News &amp; Stories</td>\n",
              "      <td>26681344</td>\n",
              "      <td>USD</td>\n",
              "      <td>0.00</td>\n",
              "      <td>4645</td>\n",
              "      <td>28</td>\n",
              "      <td>4.0</td>\n",
              "      <td>4.5</td>\n",
              "      <td>4.1.10</td>\n",
              "      <td>17+</td>\n",
              "      <td>News</td>\n",
              "      <td>37</td>\n",
              "      <td>5</td>\n",
              "      <td>2</td>\n",
              "      <td>1</td>\n",
              "    </tr>\n",
              "  </tbody>\n",
              "</table>\n",
              "</div>"
            ],
            "text/plain": [
              "      Unnamed: 0          id  ... lang.num  vpp_lic\n",
              "4758        6123  1059634715  ...        1        1\n",
              "5688        7738  1093131935  ...        5        1\n",
              "1134        1322   491899548  ...        4        1\n",
              "5373        7184  1081221532  ...       12        1\n",
              "1657        1926   579581125  ...        2        1\n",
              "\n",
              "[5 rows x 17 columns]"
            ]
          },
          "metadata": {
            "tags": []
          },
          "execution_count": 39
        }
      ]
    },
    {
      "cell_type": "code",
      "metadata": {
        "id": "56Zak5z41UC6",
        "colab_type": "code",
        "outputId": "0a2bcf78-8280-40a5-d550-8b081a5604b7",
        "colab": {
          "base_uri": "https://localhost:8080/",
          "height": 413
        }
      },
      "source": [
        "data = pd.read_csv(url, index_col=0)\n",
        "\n",
        "data.head()"
      ],
      "execution_count": 0,
      "outputs": [
        {
          "output_type": "execute_result",
          "data": {
            "text/html": [
              "<div>\n",
              "<style scoped>\n",
              "    .dataframe tbody tr th:only-of-type {\n",
              "        vertical-align: middle;\n",
              "    }\n",
              "\n",
              "    .dataframe tbody tr th {\n",
              "        vertical-align: top;\n",
              "    }\n",
              "\n",
              "    .dataframe thead th {\n",
              "        text-align: right;\n",
              "    }\n",
              "</style>\n",
              "<table border=\"1\" class=\"dataframe\">\n",
              "  <thead>\n",
              "    <tr style=\"text-align: right;\">\n",
              "      <th></th>\n",
              "      <th>id</th>\n",
              "      <th>track_name</th>\n",
              "      <th>size_bytes</th>\n",
              "      <th>currency</th>\n",
              "      <th>price</th>\n",
              "      <th>rating_count_tot</th>\n",
              "      <th>rating_count_ver</th>\n",
              "      <th>user_rating</th>\n",
              "      <th>user_rating_ver</th>\n",
              "      <th>ver</th>\n",
              "      <th>cont_rating</th>\n",
              "      <th>prime_genre</th>\n",
              "      <th>sup_devices.num</th>\n",
              "      <th>ipadSc_urls.num</th>\n",
              "      <th>lang.num</th>\n",
              "      <th>vpp_lic</th>\n",
              "    </tr>\n",
              "  </thead>\n",
              "  <tbody>\n",
              "    <tr>\n",
              "      <th>1</th>\n",
              "      <td>281656475</td>\n",
              "      <td>PAC-MAN Premium</td>\n",
              "      <td>100788224</td>\n",
              "      <td>USD</td>\n",
              "      <td>3.99</td>\n",
              "      <td>21292</td>\n",
              "      <td>26</td>\n",
              "      <td>4.0</td>\n",
              "      <td>4.5</td>\n",
              "      <td>6.3.5</td>\n",
              "      <td>4+</td>\n",
              "      <td>Games</td>\n",
              "      <td>38</td>\n",
              "      <td>5</td>\n",
              "      <td>10</td>\n",
              "      <td>1</td>\n",
              "    </tr>\n",
              "    <tr>\n",
              "      <th>2</th>\n",
              "      <td>281796108</td>\n",
              "      <td>Evernote - stay organized</td>\n",
              "      <td>158578688</td>\n",
              "      <td>USD</td>\n",
              "      <td>0.00</td>\n",
              "      <td>161065</td>\n",
              "      <td>26</td>\n",
              "      <td>4.0</td>\n",
              "      <td>3.5</td>\n",
              "      <td>8.2.2</td>\n",
              "      <td>4+</td>\n",
              "      <td>Productivity</td>\n",
              "      <td>37</td>\n",
              "      <td>5</td>\n",
              "      <td>23</td>\n",
              "      <td>1</td>\n",
              "    </tr>\n",
              "    <tr>\n",
              "      <th>3</th>\n",
              "      <td>281940292</td>\n",
              "      <td>WeatherBug - Local Weather, Radar, Maps, Alerts</td>\n",
              "      <td>100524032</td>\n",
              "      <td>USD</td>\n",
              "      <td>0.00</td>\n",
              "      <td>188583</td>\n",
              "      <td>2822</td>\n",
              "      <td>3.5</td>\n",
              "      <td>4.5</td>\n",
              "      <td>5.0.0</td>\n",
              "      <td>4+</td>\n",
              "      <td>Weather</td>\n",
              "      <td>37</td>\n",
              "      <td>5</td>\n",
              "      <td>3</td>\n",
              "      <td>1</td>\n",
              "    </tr>\n",
              "    <tr>\n",
              "      <th>4</th>\n",
              "      <td>282614216</td>\n",
              "      <td>eBay: Best App to Buy, Sell, Save! Online Shop...</td>\n",
              "      <td>128512000</td>\n",
              "      <td>USD</td>\n",
              "      <td>0.00</td>\n",
              "      <td>262241</td>\n",
              "      <td>649</td>\n",
              "      <td>4.0</td>\n",
              "      <td>4.5</td>\n",
              "      <td>5.10.0</td>\n",
              "      <td>12+</td>\n",
              "      <td>Shopping</td>\n",
              "      <td>37</td>\n",
              "      <td>5</td>\n",
              "      <td>9</td>\n",
              "      <td>1</td>\n",
              "    </tr>\n",
              "    <tr>\n",
              "      <th>5</th>\n",
              "      <td>282935706</td>\n",
              "      <td>Bible</td>\n",
              "      <td>92774400</td>\n",
              "      <td>USD</td>\n",
              "      <td>0.00</td>\n",
              "      <td>985920</td>\n",
              "      <td>5320</td>\n",
              "      <td>4.5</td>\n",
              "      <td>5.0</td>\n",
              "      <td>7.5.1</td>\n",
              "      <td>4+</td>\n",
              "      <td>Reference</td>\n",
              "      <td>37</td>\n",
              "      <td>5</td>\n",
              "      <td>45</td>\n",
              "      <td>1</td>\n",
              "    </tr>\n",
              "  </tbody>\n",
              "</table>\n",
              "</div>"
            ],
            "text/plain": [
              "          id  ... vpp_lic\n",
              "1  281656475  ...       1\n",
              "2  281796108  ...       1\n",
              "3  281940292  ...       1\n",
              "4  282614216  ...       1\n",
              "5  282935706  ...       1\n",
              "\n",
              "[5 rows x 16 columns]"
            ]
          },
          "metadata": {
            "tags": []
          },
          "execution_count": 40
        }
      ]
    },
    {
      "cell_type": "markdown",
      "metadata": {
        "id": "US2me_VZ1UC9",
        "colab_type": "text"
      },
      "source": [
        "Можно узнать размер таблицы, информацию о значениях таблицы, различные статистики по значениям"
      ]
    },
    {
      "cell_type": "code",
      "metadata": {
        "id": "jfOMZ-tj1UC-",
        "colab_type": "code",
        "outputId": "7e315850-de84-4f26-a640-8c2b9591f1b5",
        "colab": {
          "base_uri": "https://localhost:8080/",
          "height": 35
        }
      },
      "source": [
        "data.shape"
      ],
      "execution_count": 0,
      "outputs": [
        {
          "output_type": "execute_result",
          "data": {
            "text/plain": [
              "(7197, 16)"
            ]
          },
          "metadata": {
            "tags": []
          },
          "execution_count": 41
        }
      ]
    },
    {
      "cell_type": "code",
      "metadata": {
        "scrolled": false,
        "id": "akSedoRu1UDA",
        "colab_type": "code",
        "outputId": "f52c2730-e1b1-4113-eb60-f3c39a717b06",
        "colab": {
          "base_uri": "https://localhost:8080/",
          "height": 381
        }
      },
      "source": [
        "data.info()"
      ],
      "execution_count": 0,
      "outputs": [
        {
          "output_type": "stream",
          "text": [
            "<class 'pandas.core.frame.DataFrame'>\n",
            "Int64Index: 7197 entries, 1 to 11097\n",
            "Data columns (total 16 columns):\n",
            "id                  7197 non-null int64\n",
            "track_name          7197 non-null object\n",
            "size_bytes          7197 non-null int64\n",
            "currency            7197 non-null object\n",
            "price               7197 non-null float64\n",
            "rating_count_tot    7197 non-null int64\n",
            "rating_count_ver    7197 non-null int64\n",
            "user_rating         7197 non-null float64\n",
            "user_rating_ver     7197 non-null float64\n",
            "ver                 7197 non-null object\n",
            "cont_rating         7197 non-null object\n",
            "prime_genre         7197 non-null object\n",
            "sup_devices.num     7197 non-null int64\n",
            "ipadSc_urls.num     7197 non-null int64\n",
            "lang.num            7197 non-null int64\n",
            "vpp_lic             7197 non-null int64\n",
            "dtypes: float64(3), int64(8), object(5)\n",
            "memory usage: 955.9+ KB\n"
          ],
          "name": "stdout"
        }
      ]
    },
    {
      "cell_type": "code",
      "metadata": {
        "id": "Dst3oukd1UDD",
        "colab_type": "code",
        "outputId": "961e9dbb-5881-492f-9f39-6e1e5ddace3c",
        "colab": {
          "base_uri": "https://localhost:8080/",
          "height": 314
        }
      },
      "source": [
        "data.describe()"
      ],
      "execution_count": 0,
      "outputs": [
        {
          "output_type": "execute_result",
          "data": {
            "text/html": [
              "<div>\n",
              "<style scoped>\n",
              "    .dataframe tbody tr th:only-of-type {\n",
              "        vertical-align: middle;\n",
              "    }\n",
              "\n",
              "    .dataframe tbody tr th {\n",
              "        vertical-align: top;\n",
              "    }\n",
              "\n",
              "    .dataframe thead th {\n",
              "        text-align: right;\n",
              "    }\n",
              "</style>\n",
              "<table border=\"1\" class=\"dataframe\">\n",
              "  <thead>\n",
              "    <tr style=\"text-align: right;\">\n",
              "      <th></th>\n",
              "      <th>id</th>\n",
              "      <th>size_bytes</th>\n",
              "      <th>price</th>\n",
              "      <th>rating_count_tot</th>\n",
              "      <th>rating_count_ver</th>\n",
              "      <th>user_rating</th>\n",
              "      <th>user_rating_ver</th>\n",
              "      <th>sup_devices.num</th>\n",
              "      <th>ipadSc_urls.num</th>\n",
              "      <th>lang.num</th>\n",
              "      <th>vpp_lic</th>\n",
              "    </tr>\n",
              "  </thead>\n",
              "  <tbody>\n",
              "    <tr>\n",
              "      <th>count</th>\n",
              "      <td>7.197000e+03</td>\n",
              "      <td>7.197000e+03</td>\n",
              "      <td>7197.000000</td>\n",
              "      <td>7.197000e+03</td>\n",
              "      <td>7197.000000</td>\n",
              "      <td>7197.000000</td>\n",
              "      <td>7197.000000</td>\n",
              "      <td>7197.000000</td>\n",
              "      <td>7197.000000</td>\n",
              "      <td>7197.000000</td>\n",
              "      <td>7197.000000</td>\n",
              "    </tr>\n",
              "    <tr>\n",
              "      <th>mean</th>\n",
              "      <td>8.631310e+08</td>\n",
              "      <td>1.991345e+08</td>\n",
              "      <td>1.726218</td>\n",
              "      <td>1.289291e+04</td>\n",
              "      <td>460.373906</td>\n",
              "      <td>3.526956</td>\n",
              "      <td>3.253578</td>\n",
              "      <td>37.361817</td>\n",
              "      <td>3.707100</td>\n",
              "      <td>5.434903</td>\n",
              "      <td>0.993053</td>\n",
              "    </tr>\n",
              "    <tr>\n",
              "      <th>std</th>\n",
              "      <td>2.712368e+08</td>\n",
              "      <td>3.592069e+08</td>\n",
              "      <td>5.833006</td>\n",
              "      <td>7.573941e+04</td>\n",
              "      <td>3920.455183</td>\n",
              "      <td>1.517948</td>\n",
              "      <td>1.809363</td>\n",
              "      <td>3.737715</td>\n",
              "      <td>1.986005</td>\n",
              "      <td>7.919593</td>\n",
              "      <td>0.083066</td>\n",
              "    </tr>\n",
              "    <tr>\n",
              "      <th>min</th>\n",
              "      <td>2.816565e+08</td>\n",
              "      <td>5.898240e+05</td>\n",
              "      <td>0.000000</td>\n",
              "      <td>0.000000e+00</td>\n",
              "      <td>0.000000</td>\n",
              "      <td>0.000000</td>\n",
              "      <td>0.000000</td>\n",
              "      <td>9.000000</td>\n",
              "      <td>0.000000</td>\n",
              "      <td>0.000000</td>\n",
              "      <td>0.000000</td>\n",
              "    </tr>\n",
              "    <tr>\n",
              "      <th>25%</th>\n",
              "      <td>6.000937e+08</td>\n",
              "      <td>4.692275e+07</td>\n",
              "      <td>0.000000</td>\n",
              "      <td>2.800000e+01</td>\n",
              "      <td>1.000000</td>\n",
              "      <td>3.500000</td>\n",
              "      <td>2.500000</td>\n",
              "      <td>37.000000</td>\n",
              "      <td>3.000000</td>\n",
              "      <td>1.000000</td>\n",
              "      <td>1.000000</td>\n",
              "    </tr>\n",
              "    <tr>\n",
              "      <th>50%</th>\n",
              "      <td>9.781482e+08</td>\n",
              "      <td>9.715302e+07</td>\n",
              "      <td>0.000000</td>\n",
              "      <td>3.000000e+02</td>\n",
              "      <td>23.000000</td>\n",
              "      <td>4.000000</td>\n",
              "      <td>4.000000</td>\n",
              "      <td>37.000000</td>\n",
              "      <td>5.000000</td>\n",
              "      <td>1.000000</td>\n",
              "      <td>1.000000</td>\n",
              "    </tr>\n",
              "    <tr>\n",
              "      <th>75%</th>\n",
              "      <td>1.082310e+09</td>\n",
              "      <td>1.819249e+08</td>\n",
              "      <td>1.990000</td>\n",
              "      <td>2.793000e+03</td>\n",
              "      <td>140.000000</td>\n",
              "      <td>4.500000</td>\n",
              "      <td>4.500000</td>\n",
              "      <td>38.000000</td>\n",
              "      <td>5.000000</td>\n",
              "      <td>8.000000</td>\n",
              "      <td>1.000000</td>\n",
              "    </tr>\n",
              "    <tr>\n",
              "      <th>max</th>\n",
              "      <td>1.188376e+09</td>\n",
              "      <td>4.025970e+09</td>\n",
              "      <td>299.990000</td>\n",
              "      <td>2.974676e+06</td>\n",
              "      <td>177050.000000</td>\n",
              "      <td>5.000000</td>\n",
              "      <td>5.000000</td>\n",
              "      <td>47.000000</td>\n",
              "      <td>5.000000</td>\n",
              "      <td>75.000000</td>\n",
              "      <td>1.000000</td>\n",
              "    </tr>\n",
              "  </tbody>\n",
              "</table>\n",
              "</div>"
            ],
            "text/plain": [
              "                 id    size_bytes  ...     lang.num      vpp_lic\n",
              "count  7.197000e+03  7.197000e+03  ...  7197.000000  7197.000000\n",
              "mean   8.631310e+08  1.991345e+08  ...     5.434903     0.993053\n",
              "std    2.712368e+08  3.592069e+08  ...     7.919593     0.083066\n",
              "min    2.816565e+08  5.898240e+05  ...     0.000000     0.000000\n",
              "25%    6.000937e+08  4.692275e+07  ...     1.000000     1.000000\n",
              "50%    9.781482e+08  9.715302e+07  ...     1.000000     1.000000\n",
              "75%    1.082310e+09  1.819249e+08  ...     8.000000     1.000000\n",
              "max    1.188376e+09  4.025970e+09  ...    75.000000     1.000000\n",
              "\n",
              "[8 rows x 11 columns]"
            ]
          },
          "metadata": {
            "tags": []
          },
          "execution_count": 43
        }
      ]
    },
    {
      "cell_type": "markdown",
      "metadata": {
        "id": "0N09oxbV1UDI",
        "colab_type": "text"
      },
      "source": [
        "Чтобы посмотреть, какие колонки есть в таблице, можно воспользоваться `columns`"
      ]
    },
    {
      "cell_type": "code",
      "metadata": {
        "id": "qTKB_iPj1UDJ",
        "colab_type": "code",
        "outputId": "71611817-4403-4a0e-c819-7375d2583a2c",
        "colab": {
          "base_uri": "https://localhost:8080/",
          "height": 104
        }
      },
      "source": [
        "data.columns"
      ],
      "execution_count": 0,
      "outputs": [
        {
          "output_type": "execute_result",
          "data": {
            "text/plain": [
              "Index(['id', 'track_name', 'size_bytes', 'currency', 'price',\n",
              "       'rating_count_tot', 'rating_count_ver', 'user_rating',\n",
              "       'user_rating_ver', 'ver', 'cont_rating', 'prime_genre',\n",
              "       'sup_devices.num', 'ipadSc_urls.num', 'lang.num', 'vpp_lic'],\n",
              "      dtype='object')"
            ]
          },
          "metadata": {
            "tags": []
          },
          "execution_count": 44
        }
      ]
    },
    {
      "cell_type": "markdown",
      "metadata": {
        "id": "RhuiJk701UDN",
        "colab_type": "text"
      },
      "source": [
        "Метод `values` преобразует `pd.DataFrame` к `np.ndarray`"
      ]
    },
    {
      "cell_type": "code",
      "metadata": {
        "id": "33mTBoiq1UDN",
        "colab_type": "code",
        "outputId": "a31dcaef-864b-4b87-fea7-1214d31455a4",
        "colab": {
          "base_uri": "https://localhost:8080/",
          "height": 208
        }
      },
      "source": [
        "data.values"
      ],
      "execution_count": 0,
      "outputs": [
        {
          "output_type": "execute_result",
          "data": {
            "text/plain": [
              "array([[281656475, 'PAC-MAN Premium', 100788224, ..., 5, 10, 1],\n",
              "       [281796108, 'Evernote - stay organized', 158578688, ..., 5, 23, 1],\n",
              "       [281940292, 'WeatherBug - Local Weather, Radar, Maps, Alerts',\n",
              "        100524032, ..., 5, 3, 1],\n",
              "       ...,\n",
              "       [1187779532, 'Bret Michaels Emojis + Lyric Keyboard', 111322112,\n",
              "        ..., 1, 1, 1],\n",
              "       [1187838770, 'VR Roller Coaster World - Virtual Reality',\n",
              "        97235968, ..., 0, 2, 1],\n",
              "       [1188375727, 'Escape the Sweet Shop Series', 90898432, ..., 0, 2,\n",
              "        1]], dtype=object)"
            ]
          },
          "metadata": {
            "tags": []
          },
          "execution_count": 45
        }
      ]
    },
    {
      "cell_type": "code",
      "metadata": {
        "id": "-MjcLoEH1UDR",
        "colab_type": "code",
        "outputId": "b1efb33f-f62e-4486-826c-d5945b682695",
        "colab": {
          "base_uri": "https://localhost:8080/",
          "height": 35
        }
      },
      "source": [
        "type(data.values)"
      ],
      "execution_count": 0,
      "outputs": [
        {
          "output_type": "execute_result",
          "data": {
            "text/plain": [
              "numpy.ndarray"
            ]
          },
          "metadata": {
            "tags": []
          },
          "execution_count": 46
        }
      ]
    },
    {
      "cell_type": "code",
      "metadata": {
        "id": "WAaMTidz1UDT",
        "colab_type": "code",
        "outputId": "1fc94246-a222-479a-e972-d8fc58f62771",
        "colab": {
          "base_uri": "https://localhost:8080/",
          "height": 52
        }
      },
      "source": [
        "data.values[:,0]"
      ],
      "execution_count": 0,
      "outputs": [
        {
          "output_type": "execute_result",
          "data": {
            "text/plain": [
              "array([281656475, 281796108, 281940292, ..., 1187779532, 1187838770,\n",
              "       1188375727], dtype=object)"
            ]
          },
          "metadata": {
            "tags": []
          },
          "execution_count": 47
        }
      ]
    },
    {
      "cell_type": "markdown",
      "metadata": {
        "id": "sFitslH_1UDY",
        "colab_type": "text"
      },
      "source": [
        "Более продвинутое индексирование по таблице: **loc** и **iloc** "
      ]
    },
    {
      "cell_type": "markdown",
      "metadata": {
        "id": "23ZWvUrK1UDZ",
        "colab_type": "text"
      },
      "source": [
        "`iloc` - index-based selection"
      ]
    },
    {
      "cell_type": "code",
      "metadata": {
        "id": "SfqUXLq_1UDZ",
        "colab_type": "code",
        "outputId": "b899e8c3-2247-4f8e-cafc-8cf15b879792",
        "colab": {
          "base_uri": "https://localhost:8080/",
          "height": 312
        }
      },
      "source": [
        "data.iloc[0]"
      ],
      "execution_count": 0,
      "outputs": [
        {
          "output_type": "execute_result",
          "data": {
            "text/plain": [
              "id                        281656475\n",
              "track_name          PAC-MAN Premium\n",
              "size_bytes                100788224\n",
              "currency                        USD\n",
              "price                          3.99\n",
              "rating_count_tot              21292\n",
              "rating_count_ver                 26\n",
              "user_rating                       4\n",
              "user_rating_ver                 4.5\n",
              "ver                           6.3.5\n",
              "cont_rating                      4+\n",
              "prime_genre                   Games\n",
              "sup_devices.num                  38\n",
              "ipadSc_urls.num                   5\n",
              "lang.num                         10\n",
              "vpp_lic                           1\n",
              "Name: 1, dtype: object"
            ]
          },
          "metadata": {
            "tags": []
          },
          "execution_count": 48
        }
      ]
    },
    {
      "cell_type": "code",
      "metadata": {
        "id": "5NxysRaH5uGw",
        "colab_type": "code",
        "outputId": "d68f72e8-7674-4208-9e8d-cb1f3d907963",
        "colab": {
          "base_uri": "https://localhost:8080/",
          "height": 35
        }
      },
      "source": [
        "data.iloc[0, 2]"
      ],
      "execution_count": 0,
      "outputs": [
        {
          "output_type": "execute_result",
          "data": {
            "text/plain": [
              "100788224"
            ]
          },
          "metadata": {
            "tags": []
          },
          "execution_count": 49
        }
      ]
    },
    {
      "cell_type": "code",
      "metadata": {
        "id": "MESrifFT1UDe",
        "colab_type": "code",
        "outputId": "b64f87cc-0205-4934-97f3-15ea03d667d3",
        "colab": {
          "base_uri": "https://localhost:8080/",
          "height": 110
        }
      },
      "source": [
        "data.iloc[1:3, 1:3]"
      ],
      "execution_count": 0,
      "outputs": [
        {
          "output_type": "execute_result",
          "data": {
            "text/html": [
              "<div>\n",
              "<style scoped>\n",
              "    .dataframe tbody tr th:only-of-type {\n",
              "        vertical-align: middle;\n",
              "    }\n",
              "\n",
              "    .dataframe tbody tr th {\n",
              "        vertical-align: top;\n",
              "    }\n",
              "\n",
              "    .dataframe thead th {\n",
              "        text-align: right;\n",
              "    }\n",
              "</style>\n",
              "<table border=\"1\" class=\"dataframe\">\n",
              "  <thead>\n",
              "    <tr style=\"text-align: right;\">\n",
              "      <th></th>\n",
              "      <th>track_name</th>\n",
              "      <th>size_bytes</th>\n",
              "    </tr>\n",
              "  </thead>\n",
              "  <tbody>\n",
              "    <tr>\n",
              "      <th>2</th>\n",
              "      <td>Evernote - stay organized</td>\n",
              "      <td>158578688</td>\n",
              "    </tr>\n",
              "    <tr>\n",
              "      <th>3</th>\n",
              "      <td>WeatherBug - Local Weather, Radar, Maps, Alerts</td>\n",
              "      <td>100524032</td>\n",
              "    </tr>\n",
              "  </tbody>\n",
              "</table>\n",
              "</div>"
            ],
            "text/plain": [
              "                                        track_name  size_bytes\n",
              "2                        Evernote - stay organized   158578688\n",
              "3  WeatherBug - Local Weather, Radar, Maps, Alerts   100524032"
            ]
          },
          "metadata": {
            "tags": []
          },
          "execution_count": 50
        }
      ]
    },
    {
      "cell_type": "code",
      "metadata": {
        "id": "e5xMkNdT1UDi",
        "colab_type": "code",
        "outputId": "bfc2da49-c35f-4ac9-983a-c0f56b186fdc",
        "colab": {
          "base_uri": "https://localhost:8080/",
          "height": 87
        }
      },
      "source": [
        "data.iloc[[0,1,2], 0]"
      ],
      "execution_count": 0,
      "outputs": [
        {
          "output_type": "execute_result",
          "data": {
            "text/plain": [
              "1    281656475\n",
              "2    281796108\n",
              "3    281940292\n",
              "Name: id, dtype: int64"
            ]
          },
          "metadata": {
            "tags": []
          },
          "execution_count": 51
        }
      ]
    },
    {
      "cell_type": "code",
      "metadata": {
        "id": "hoUbIwEL1UDp",
        "colab_type": "code",
        "outputId": "86a30461-f845-462f-df50-3d2c07fb75c2",
        "colab": {
          "base_uri": "https://localhost:8080/",
          "height": 312
        }
      },
      "source": [
        "data.iloc[-1, :]"
      ],
      "execution_count": 0,
      "outputs": [
        {
          "output_type": "execute_result",
          "data": {
            "text/plain": [
              "id                                    1188375727\n",
              "track_name          Escape the Sweet Shop Series\n",
              "size_bytes                              90898432\n",
              "currency                                     USD\n",
              "price                                          0\n",
              "rating_count_tot                               3\n",
              "rating_count_ver                               3\n",
              "user_rating                                    5\n",
              "user_rating_ver                                5\n",
              "ver                                          1.0\n",
              "cont_rating                                   4+\n",
              "prime_genre                                Games\n",
              "sup_devices.num                               40\n",
              "ipadSc_urls.num                                0\n",
              "lang.num                                       2\n",
              "vpp_lic                                        1\n",
              "Name: 11097, dtype: object"
            ]
          },
          "metadata": {
            "tags": []
          },
          "execution_count": 52
        }
      ]
    },
    {
      "cell_type": "markdown",
      "metadata": {
        "id": "WqRaA1ko1UDv",
        "colab_type": "text"
      },
      "source": [
        "`loc` - label-based selection"
      ]
    },
    {
      "cell_type": "code",
      "metadata": {
        "id": "OaPQeQVG1UDw",
        "colab_type": "code",
        "outputId": "693a9bc9-4cb7-405f-e5e8-198cae8743a0",
        "colab": {
          "base_uri": "https://localhost:8080/",
          "height": 87
        }
      },
      "source": [
        "# первое значение - index, второе - имя колонки\n",
        "data.loc[1, ['id', 'track_name', 'price']]"
      ],
      "execution_count": 0,
      "outputs": [
        {
          "output_type": "execute_result",
          "data": {
            "text/plain": [
              "id                  281656475\n",
              "track_name    PAC-MAN Premium\n",
              "price                    3.99\n",
              "Name: 1, dtype: object"
            ]
          },
          "metadata": {
            "tags": []
          },
          "execution_count": 53
        }
      ]
    },
    {
      "cell_type": "markdown",
      "metadata": {
        "id": "KBLUK6Fj1UDz",
        "colab_type": "text"
      },
      "source": [
        "**Choosing between loc and iloc**\n",
        "\n",
        "When choosing or transitioning between loc and iloc, there is one \"gotcha\" worth keeping in mind, which is that the two methods use slightly different indexing schemes.\n",
        "\n",
        "`iloc` uses the Python stdlib indexing scheme, where the first element of the range is included and the last one excluded. So 0:10 will select entries 0,...,9. loc, meanwhile, indexes inclusively. So 0:10 will select entries 0,...,10.\n",
        "\n",
        "Why the change? Remember that loc can index any stdlib type: strings, for example. If we have a DataFrame with index values `Apples, ..., Potatoes, ...,` and we want to select \"all the alphabetical fruit choices between Apples and Potatoes\", then it's a lot more convenient to index `df.loc['Apples':'Potatoes']` than it is to index something like `df.loc['Apples', 'Potatoet']` (t coming after s in the alphabet).\n",
        "\n",
        "This is particularly confusing when the DataFrame index is a simple numerical list, e.g. 0,...,1000. In this case `df.iloc[0:1000]` will return 1000 entries, while `df.loc[0:1000]` return 1001 of them! To get 1000 elements using `loc`, you will need to go one lower and ask for `df.iloc[0:999]`.\n",
        "\n",
        "Otherwise, the semantics of using `loc` are the same as those for `iloc`."
      ]
    },
    {
      "cell_type": "markdown",
      "metadata": {
        "id": "jTXw-YCQ1UD0",
        "colab_type": "text"
      },
      "source": [
        "`loc` может принимать булевы выражения (так же, как и в случае с `pd.Series`)\n",
        "\n",
        "Еще один полезный метод - `isin`"
      ]
    },
    {
      "cell_type": "code",
      "metadata": {
        "id": "4x9pNXdM1UD1",
        "colab_type": "code",
        "outputId": "1ddbbe85-0a2d-4060-a4b8-4296e22db702",
        "colab": {
          "base_uri": "https://localhost:8080/",
          "height": 361
        }
      },
      "source": [
        "data.loc[data.prime_genre.isin(['Games', 'Shopping'])].head()"
      ],
      "execution_count": 0,
      "outputs": [
        {
          "output_type": "execute_result",
          "data": {
            "text/html": [
              "<div>\n",
              "<style scoped>\n",
              "    .dataframe tbody tr th:only-of-type {\n",
              "        vertical-align: middle;\n",
              "    }\n",
              "\n",
              "    .dataframe tbody tr th {\n",
              "        vertical-align: top;\n",
              "    }\n",
              "\n",
              "    .dataframe thead th {\n",
              "        text-align: right;\n",
              "    }\n",
              "</style>\n",
              "<table border=\"1\" class=\"dataframe\">\n",
              "  <thead>\n",
              "    <tr style=\"text-align: right;\">\n",
              "      <th></th>\n",
              "      <th>id</th>\n",
              "      <th>track_name</th>\n",
              "      <th>size_bytes</th>\n",
              "      <th>currency</th>\n",
              "      <th>price</th>\n",
              "      <th>rating_count_tot</th>\n",
              "      <th>rating_count_ver</th>\n",
              "      <th>user_rating</th>\n",
              "      <th>user_rating_ver</th>\n",
              "      <th>ver</th>\n",
              "      <th>cont_rating</th>\n",
              "      <th>prime_genre</th>\n",
              "      <th>sup_devices.num</th>\n",
              "      <th>ipadSc_urls.num</th>\n",
              "      <th>lang.num</th>\n",
              "      <th>vpp_lic</th>\n",
              "    </tr>\n",
              "  </thead>\n",
              "  <tbody>\n",
              "    <tr>\n",
              "      <th>1</th>\n",
              "      <td>281656475</td>\n",
              "      <td>PAC-MAN Premium</td>\n",
              "      <td>100788224</td>\n",
              "      <td>USD</td>\n",
              "      <td>3.99</td>\n",
              "      <td>21292</td>\n",
              "      <td>26</td>\n",
              "      <td>4.0</td>\n",
              "      <td>4.5</td>\n",
              "      <td>6.3.5</td>\n",
              "      <td>4+</td>\n",
              "      <td>Games</td>\n",
              "      <td>38</td>\n",
              "      <td>5</td>\n",
              "      <td>10</td>\n",
              "      <td>1</td>\n",
              "    </tr>\n",
              "    <tr>\n",
              "      <th>4</th>\n",
              "      <td>282614216</td>\n",
              "      <td>eBay: Best App to Buy, Sell, Save! Online Shop...</td>\n",
              "      <td>128512000</td>\n",
              "      <td>USD</td>\n",
              "      <td>0.00</td>\n",
              "      <td>262241</td>\n",
              "      <td>649</td>\n",
              "      <td>4.0</td>\n",
              "      <td>4.5</td>\n",
              "      <td>5.10.0</td>\n",
              "      <td>12+</td>\n",
              "      <td>Shopping</td>\n",
              "      <td>37</td>\n",
              "      <td>5</td>\n",
              "      <td>9</td>\n",
              "      <td>1</td>\n",
              "    </tr>\n",
              "    <tr>\n",
              "      <th>6</th>\n",
              "      <td>283619399</td>\n",
              "      <td>Shanghai Mahjong</td>\n",
              "      <td>10485713</td>\n",
              "      <td>USD</td>\n",
              "      <td>0.99</td>\n",
              "      <td>8253</td>\n",
              "      <td>5516</td>\n",
              "      <td>4.0</td>\n",
              "      <td>4.0</td>\n",
              "      <td>1.8</td>\n",
              "      <td>4+</td>\n",
              "      <td>Games</td>\n",
              "      <td>47</td>\n",
              "      <td>5</td>\n",
              "      <td>1</td>\n",
              "      <td>1</td>\n",
              "    </tr>\n",
              "    <tr>\n",
              "      <th>10</th>\n",
              "      <td>284736660</td>\n",
              "      <td>Ms. PAC-MAN</td>\n",
              "      <td>70023168</td>\n",
              "      <td>USD</td>\n",
              "      <td>3.99</td>\n",
              "      <td>7885</td>\n",
              "      <td>40</td>\n",
              "      <td>4.0</td>\n",
              "      <td>4.0</td>\n",
              "      <td>4.0.4</td>\n",
              "      <td>4+</td>\n",
              "      <td>Games</td>\n",
              "      <td>38</td>\n",
              "      <td>0</td>\n",
              "      <td>10</td>\n",
              "      <td>1</td>\n",
              "    </tr>\n",
              "    <tr>\n",
              "      <th>11</th>\n",
              "      <td>284791396</td>\n",
              "      <td>Solitaire by MobilityWare</td>\n",
              "      <td>49618944</td>\n",
              "      <td>USD</td>\n",
              "      <td>4.99</td>\n",
              "      <td>76720</td>\n",
              "      <td>4017</td>\n",
              "      <td>4.5</td>\n",
              "      <td>4.5</td>\n",
              "      <td>4.10.1</td>\n",
              "      <td>4+</td>\n",
              "      <td>Games</td>\n",
              "      <td>38</td>\n",
              "      <td>4</td>\n",
              "      <td>11</td>\n",
              "      <td>1</td>\n",
              "    </tr>\n",
              "  </tbody>\n",
              "</table>\n",
              "</div>"
            ],
            "text/plain": [
              "           id  ... vpp_lic\n",
              "1   281656475  ...       1\n",
              "4   282614216  ...       1\n",
              "6   283619399  ...       1\n",
              "10  284736660  ...       1\n",
              "11  284791396  ...       1\n",
              "\n",
              "[5 rows x 16 columns]"
            ]
          },
          "metadata": {
            "tags": []
          },
          "execution_count": 54
        }
      ]
    },
    {
      "cell_type": "markdown",
      "metadata": {
        "id": "7vOy48ke1UD8",
        "colab_type": "text"
      },
      "source": [
        "*Задания*"
      ]
    },
    {
      "cell_type": "markdown",
      "metadata": {
        "id": "YSMp49RB1UD9",
        "colab_type": "text"
      },
      "source": [
        "---"
      ]
    },
    {
      "cell_type": "markdown",
      "metadata": {
        "id": "XH4mwMoS1UD-",
        "colab_type": "text"
      },
      "source": [
        "Получите ответ на следующие вопросы (с помощью pandas):\n",
        "\n",
        "1). Сколько приложений с максимальным рейтингом (`user_rating`)?\n",
        "\n",
        "2). Сколько всего жанров (`prime_genre`) и какие они? (Hint: `np.unique`)  \n",
        "\n",
        "3). Сколько суммарно байт (`size_bytes`) весят все приложения жанра Finance?  \n",
        "\n",
        "4). Сколько всего бесплатных приложений, у которых рейтинг юзеров больше трёх?  \n",
        "\n",
        "5). Есть ли приложения, которые стоят больше 100 долларов?\n",
        "\n",
        "6). Сколько приложений из жанра `Games` или `Shopping`, которые стоят дороже 10 USD или меньше 2 USD, но не являются бесплатными?"
      ]
    },
    {
      "cell_type": "code",
      "metadata": {
        "id": "1jP0Nw7z6HXl",
        "colab_type": "code",
        "outputId": "f1e10d3d-b18a-4577-cf3b-76e1bdae4f6b",
        "colab": {
          "base_uri": "https://localhost:8080/",
          "height": 35
        }
      },
      "source": [
        "#1\n",
        "(data.user_rating == data.user_rating.max()).sum()"
      ],
      "execution_count": 0,
      "outputs": [
        {
          "output_type": "execute_result",
          "data": {
            "text/plain": [
              "492"
            ]
          },
          "metadata": {
            "tags": []
          },
          "execution_count": 55
        }
      ]
    },
    {
      "cell_type": "code",
      "metadata": {
        "id": "jAwTenES6TCv",
        "colab_type": "code",
        "outputId": "b5832068-f777-482a-e8dd-a6144ee758c1",
        "colab": {
          "base_uri": "https://localhost:8080/",
          "height": 520
        }
      },
      "source": [
        "#2\n",
        "print(np.unique(data.prime_genre))\n",
        "print('*'*5)\n",
        "data.prime_genre.value_counts()"
      ],
      "execution_count": 0,
      "outputs": [
        {
          "output_type": "stream",
          "text": [
            "['Book' 'Business' 'Catalogs' 'Education' 'Entertainment' 'Finance'\n",
            " 'Food & Drink' 'Games' 'Health & Fitness' 'Lifestyle' 'Medical' 'Music'\n",
            " 'Navigation' 'News' 'Photo & Video' 'Productivity' 'Reference' 'Shopping'\n",
            " 'Social Networking' 'Sports' 'Travel' 'Utilities' 'Weather']\n",
            "*****\n"
          ],
          "name": "stdout"
        },
        {
          "output_type": "execute_result",
          "data": {
            "text/plain": [
              "Games                3862\n",
              "Entertainment         535\n",
              "Education             453\n",
              "Photo & Video         349\n",
              "Utilities             248\n",
              "Health & Fitness      180\n",
              "Productivity          178\n",
              "Social Networking     167\n",
              "Lifestyle             144\n",
              "Music                 138\n",
              "Shopping              122\n",
              "Sports                114\n",
              "Book                  112\n",
              "Finance               104\n",
              "Travel                 81\n",
              "News                   75\n",
              "Weather                72\n",
              "Reference              64\n",
              "Food & Drink           63\n",
              "Business               57\n",
              "Navigation             46\n",
              "Medical                23\n",
              "Catalogs               10\n",
              "Name: prime_genre, dtype: int64"
            ]
          },
          "metadata": {
            "tags": []
          },
          "execution_count": 63
        }
      ]
    },
    {
      "cell_type": "code",
      "metadata": {
        "id": "ywEwigEH69XX",
        "colab_type": "code",
        "outputId": "a1c3288d-ab57-4663-8e84-8c3f8dc0ad1c",
        "colab": {
          "base_uri": "https://localhost:8080/",
          "height": 35
        }
      },
      "source": [
        "#3\n",
        "data[data.prime_genre == 'Finance'].size_bytes.sum()"
      ],
      "execution_count": 0,
      "outputs": [
        {
          "output_type": "execute_result",
          "data": {
            "text/plain": [
              "8136529366"
            ]
          },
          "metadata": {
            "tags": []
          },
          "execution_count": 66
        }
      ]
    },
    {
      "cell_type": "code",
      "metadata": {
        "id": "C8Tym9-x7SrN",
        "colab_type": "code",
        "outputId": "67d8c83c-3a41-4472-c9b9-c464c39602c6",
        "colab": {
          "base_uri": "https://localhost:8080/",
          "height": 35
        }
      },
      "source": [
        "#4\n",
        "len(data[(data.price == 0) & (data.user_rating > 3)])"
      ],
      "execution_count": 0,
      "outputs": [
        {
          "output_type": "execute_result",
          "data": {
            "text/plain": [
              "2944"
            ]
          },
          "metadata": {
            "tags": []
          },
          "execution_count": 68
        }
      ]
    },
    {
      "cell_type": "code",
      "metadata": {
        "id": "BP0gTq8973Eh",
        "colab_type": "code",
        "outputId": "b9456fa5-f5ac-4ff7-cb4b-794999c0acf9",
        "colab": {
          "base_uri": "https://localhost:8080/",
          "height": 182
        }
      },
      "source": [
        "#5\n",
        "data[data.price > 100]"
      ],
      "execution_count": 0,
      "outputs": [
        {
          "output_type": "execute_result",
          "data": {
            "text/html": [
              "<div>\n",
              "<style scoped>\n",
              "    .dataframe tbody tr th:only-of-type {\n",
              "        vertical-align: middle;\n",
              "    }\n",
              "\n",
              "    .dataframe tbody tr th {\n",
              "        vertical-align: top;\n",
              "    }\n",
              "\n",
              "    .dataframe thead th {\n",
              "        text-align: right;\n",
              "    }\n",
              "</style>\n",
              "<table border=\"1\" class=\"dataframe\">\n",
              "  <thead>\n",
              "    <tr style=\"text-align: right;\">\n",
              "      <th></th>\n",
              "      <th>id</th>\n",
              "      <th>track_name</th>\n",
              "      <th>size_bytes</th>\n",
              "      <th>currency</th>\n",
              "      <th>price</th>\n",
              "      <th>rating_count_tot</th>\n",
              "      <th>rating_count_ver</th>\n",
              "      <th>user_rating</th>\n",
              "      <th>user_rating_ver</th>\n",
              "      <th>ver</th>\n",
              "      <th>cont_rating</th>\n",
              "      <th>prime_genre</th>\n",
              "      <th>sup_devices.num</th>\n",
              "      <th>ipadSc_urls.num</th>\n",
              "      <th>lang.num</th>\n",
              "      <th>vpp_lic</th>\n",
              "    </tr>\n",
              "  </thead>\n",
              "  <tbody>\n",
              "    <tr>\n",
              "      <th>129</th>\n",
              "      <td>308368164</td>\n",
              "      <td>Proloquo2Go - Symbol-based AAC</td>\n",
              "      <td>723764224</td>\n",
              "      <td>USD</td>\n",
              "      <td>249.99</td>\n",
              "      <td>773</td>\n",
              "      <td>10</td>\n",
              "      <td>4.0</td>\n",
              "      <td>3.5</td>\n",
              "      <td>5.0.1</td>\n",
              "      <td>4+</td>\n",
              "      <td>Education</td>\n",
              "      <td>37</td>\n",
              "      <td>5</td>\n",
              "      <td>3</td>\n",
              "      <td>1</td>\n",
              "    </tr>\n",
              "    <tr>\n",
              "      <th>1714</th>\n",
              "      <td>551215116</td>\n",
              "      <td>LAMP Words For Life</td>\n",
              "      <td>583263232</td>\n",
              "      <td>USD</td>\n",
              "      <td>299.99</td>\n",
              "      <td>41</td>\n",
              "      <td>0</td>\n",
              "      <td>4.0</td>\n",
              "      <td>0.0</td>\n",
              "      <td>1.5.5</td>\n",
              "      <td>4+</td>\n",
              "      <td>Education</td>\n",
              "      <td>24</td>\n",
              "      <td>5</td>\n",
              "      <td>1</td>\n",
              "      <td>1</td>\n",
              "    </tr>\n",
              "  </tbody>\n",
              "</table>\n",
              "</div>"
            ],
            "text/plain": [
              "             id                      track_name  ...  lang.num vpp_lic\n",
              "129   308368164  Proloquo2Go - Symbol-based AAC  ...         3       1\n",
              "1714  551215116             LAMP Words For Life  ...         1       1\n",
              "\n",
              "[2 rows x 16 columns]"
            ]
          },
          "metadata": {
            "tags": []
          },
          "execution_count": 69
        }
      ]
    },
    {
      "cell_type": "code",
      "metadata": {
        "id": "HcKWjJ8g775S",
        "colab_type": "code",
        "outputId": "45470044-4077-4e8b-c7e9-acb0e8e722b2",
        "colab": {
          "base_uri": "https://localhost:8080/",
          "height": 35
        }
      },
      "source": [
        "#6\n",
        "len(data[((data.price > 10) | ((data.price > 0) & (data.price < 2))) & ((data.prime_genre == 'Games') | (data.prime_genre == 'Shopping'))])"
      ],
      "execution_count": 0,
      "outputs": [
        {
          "output_type": "execute_result",
          "data": {
            "text/plain": [
              "739"
            ]
          },
          "metadata": {
            "tags": []
          },
          "execution_count": 72
        }
      ]
    },
    {
      "cell_type": "markdown",
      "metadata": {
        "id": "HEJ1RHS11UD-",
        "colab_type": "text"
      },
      "source": [
        "---"
      ]
    },
    {
      "cell_type": "markdown",
      "metadata": {
        "id": "tXU5iQUr1UD_",
        "colab_type": "text"
      },
      "source": [
        "Мы разобрали только малую часть работы с `pandas`. Это действительно мощный инструмент для работы с данными и его возможности обширны\n",
        "\n",
        "Из того, что мы не разобрали, стоит обратить внимание на следующие вещи:\n",
        "\n",
        "* Работа с пропущенными значениями (`fillna`)\n",
        "* Объединение таблиц (`join`)\n",
        "* Применение к данным функций (`apply`, `applymap`)\n",
        "* так же стоит посмотреть, как работать с базами данных в `pandas`"
      ]
    },
    {
      "cell_type": "markdown",
      "metadata": {
        "id": "Tm9OXCJU1UEA",
        "colab_type": "text"
      },
      "source": [
        "Список полезных ссылок:\n",
        "\n",
        "* Официальные туториалы: https://pandas.pydata.org/pandas-docs/stable/getting_started/tutorials.html\n",
        "\n",
        "* Официальная документация: https://pandas.pydata.org/pandas-docs/stable/\n",
        "\n",
        "* Статья на Хабре от OpenDataScience сообщества: https://habr.com/company/ods/blog/322626/\n",
        "\n",
        "* Подробный гайд: https://media.readthedocs.org/pdf/pandasguide/latest/pandasguide.pdf\n",
        "\n",
        "* Небольшой курс от kaggle: https://www.kaggle.com/learn/pandas"
      ]
    },
    {
      "cell_type": "markdown",
      "metadata": {
        "id": "Z_KAAyCN1UEA",
        "colab_type": "text"
      },
      "source": [
        "Главное в работе с новыми библиотеками -- не бояться тыкать в разные функции, смотреть типы возвращаемых объектов и активно пользоваться Яндексом, читать документацию на официальном сайте (она довольно хорошо написана), а ещё лучше понимать всё из docstring'а (`Shift+Tab` при нахождении курсора внутри скобок функции)."
      ]
    }
  ]
}